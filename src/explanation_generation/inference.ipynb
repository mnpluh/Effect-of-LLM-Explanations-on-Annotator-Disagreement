{
 "cells": [
  {
   "cell_type": "code",
   "execution_count": 38,
   "id": "501a50ca-f0e1-4bd5-9fd8-8f18ed83f8da",
   "metadata": {
    "tags": []
   },
   "outputs": [],
   "source": [
    "from transformers import AutoTokenizer, AutoModelForCausalLM\n",
    "from IPython.display import display\n",
    "from tqdm import tqdm\n",
    "import pandas as pd\n",
    "import string\n",
    "import torch\n",
    "import json\n",
    "import re"
   ]
  },
  {
   "cell_type": "markdown",
   "id": "bb5dd756-868b-411e-8032-395746cfa82b",
   "metadata": {},
   "source": [
    "**Load model and data**"
   ]
  },
  {
   "cell_type": "code",
   "execution_count": 3,
   "id": "bd759c91-115c-4256-a464-285f812c7022",
   "metadata": {
    "tags": []
   },
   "outputs": [
    {
     "name": "stderr",
     "output_type": "stream",
     "text": [
      "Loading checkpoint shards: 100%|██████████| 3/3 [06:23<00:00, 127.74s/it]\n"
     ]
    }
   ],
   "source": [
    "models_dir = \"/bigwork/nhwpnagm/hf_models/\"\n",
    "model_id = \"Mistral-7B-Instruct-v0.2\"\n",
    "\n",
    "model = AutoModelForCausalLM.from_pretrained(f\"{models_dir}/{model_id}\", device_map=\"auto\")\n",
    "tokenizer = AutoTokenizer.from_pretrained(f\"{models_dir}/{model_id}\")"
   ]
  },
  {
   "cell_type": "code",
   "execution_count": 5,
   "id": "137bb50e-adec-4cb5-b694-14318f26aab9",
   "metadata": {
    "tags": []
   },
   "outputs": [],
   "source": [
    "device = model.device"
   ]
  },
  {
   "cell_type": "code",
   "execution_count": 2,
   "id": "89581073-823d-4fa6-b80f-c14b6bf89f90",
   "metadata": {
    "tags": []
   },
   "outputs": [],
   "source": [
    "with open(\"../data_analysis/popquorn/texts.json\") as f:\n",
    "    texts = json.load(f)"
   ]
  },
  {
   "cell_type": "markdown",
   "id": "87194071-7f31-4352-b09a-2c43fa08757c",
   "metadata": {},
   "source": [
    "**Instruction sets**"
   ]
  },
  {
   "cell_type": "code",
   "execution_count": 35,
   "id": "6bd24ff9-0633-4dc0-ba1b-12811b5f1456",
   "metadata": {
    "tags": []
   },
   "outputs": [],
   "source": [
    "instructions_v0 = {\n",
    "    \"politeness\": \"A text may be assigned a politeness score from 1 to 5. For each of the five politeness scores, 5 being most polite, provide an explanation for why it may apply to the following email from a colleague. Email: \",\n",
    "    \"offensiveness\": \"A text may be assigned an offensiveness score from 1 to 5. For each of the five offensiveness scores, 5 being most offensive, provide an explanation for why it may apply to the following Reddit comment. Comment: \",\n",
    "    \"qa\": \"A question may be assigned a difficulty score from 1 to 5. For each of the five difficulty scores, 5 being most difficult, provide an explanation for why it may apply to the following text passage and associated question. Passage: \"\n",
    "}\n",
    "\n",
    "instructions_v1 = {\n",
    "    \"politeness\": \"You will be given an email from a colleague. The politeness of the email may be scored from 1 to 5, 5 being most polite. For each of the five politeness scores provide an explanation for why it may apply. Email: \",\n",
    "    \"offensiveness\": \"You will be given a Reddit comment. The offensiveness of the comment may be scored from 1 to 5, 5 being most offensive. For each of the five offensiveness scores provide an explanation for why it may apply. Comment: \",\n",
    "    \"qa\": \"You will be given a text passage and an associated question. The difficulty of the question may be scored from 1 to 5, 5 being most difficult. For each of the five difficulty scores provide a brief explanation for why it may apply. Passage: \"\n",
    "}\n",
    "\n",
    "instructions_v2 = {\n",
    "    \"politeness\": \"You will be given an email from a colleague. Your task is to generate five explanations, each one describing why that email may be assigned a politeness rating of 1, 2, 3, 4, or 5 respectively, 5 being most polite. {addition} Email: \",\n",
    "    \"offensiveness\": \"You will be given a Reddit comment. Your task is to generate five explanations, each one describing why that comment may be assigned an offensiveness rating of 1, 2, 3, 4, or 5 respectively, 5 being most offensive. {addition} Comment: \",\n",
    "    \"qa\": \"You will be given a text passage and an associated question. Your task is to generate five explanations, each one describing why that question may be assigned a difficulty rating of 1, 2, 3, 4, or 5 respectively, 5 being most difficult. {addition} Passage: \"\n",
    "}\n",
    "    \n",
    "instructions_list = [\n",
    "    instructions_v0,\n",
    "    instructions_v1,\n",
    "    instructions_v2\n",
    "]\n",
    "\n",
    "additions = {\n",
    "    \"ambiguity\": \"The explanations should focus on clearing up ambiguities.\",\n",
    "    \"difficulty\": \"The explanations should focus on simplifying the contents.\",\n",
    "}"
   ]
  },
  {
   "cell_type": "markdown",
   "id": "8e322173-ebbb-451a-b167-234b2013cf6a",
   "metadata": {},
   "source": [
    "**Function definitions**"
   ]
  },
  {
   "cell_type": "code",
   "execution_count": 47,
   "id": "5b40c4bd-2e54-47fb-9bd3-211e31458a2d",
   "metadata": {
    "tags": []
   },
   "outputs": [],
   "source": [
    "def inference(prompt:str):\n",
    "    message = [{\"role\": \"user\", \"content\": prompt}]\n",
    "    inputs = tokenizer.apply_chat_template(message, tokenize=True, add_generation_prompt=True, return_tensors=\"pt\").to(device)#.to(device=torch.device('cuda'))\n",
    "    outputs = model.generate(inputs, max_new_tokens=1000)\n",
    "    decoded_output = tokenizer.decode(outputs[0], skip_special_tokens=True)\n",
    "    return decoded_output.replace(prompt, \"\").strip()\n",
    "\n",
    "\n",
    "def clean(text:str):\n",
    "    text_no_html = re.sub(r'<[^>]+>', '', text)\n",
    "    return re.sub(r'\\s+', ' ', text_no_html).strip()\n",
    "\n",
    "\n",
    "def run(idx_l:int = 0, idx_r:int = None, addition:str = ''):\n",
    "    outputs = {}\n",
    "    for task in texts:\n",
    "        outputs[task] = {}\n",
    "        for inst_id, text in texts[task].items():\n",
    "            outputs[task][inst_id] = {}\n",
    "            for i, instructions in enumerate(instructions_list[idx_l:idx_r], start=idx_l):\n",
    "                instr_key = f'v{i}' if not addition else f'v{i}_{addition}'\n",
    "                outputs[task][inst_id][instr_key] = {}\n",
    "                # clean the text (mainly for QA)\n",
    "                text_cleaned = clean(text)\n",
    "                # construct the prompt and call the model \n",
    "                prompt = instructions[task].format_map({'addition':additions[addition]}) + text_cleaned\n",
    "                output = inference(prompt)\n",
    "                # save the used prompt and the model output\n",
    "                outputs[task][inst_id][instr_key]['prompt'] = prompt\n",
    "                outputs[task][inst_id][instr_key]['output'] = output\n",
    "    return outputs\n",
    "\n",
    "\n",
    "def merge_dicts(d1:dict, d2:dict):\n",
    "    merged = d1.copy()\n",
    "    for k, v in d2.items():\n",
    "        if k in merged:\n",
    "            if isinstance(merged[k], dict) and isinstance(v, dict):\n",
    "                merged[k] = merge_dicts(merged[k], v)\n",
    "            else:\n",
    "                merged[k] = v\n",
    "        else:\n",
    "            merged[k] = v\n",
    "    return merged\n",
    "\n",
    "\n",
    "def load(name:str):\n",
    "    with open(name, 'r') as f:\n",
    "        file = json.load(f) \n",
    "    return file\n",
    "\n",
    "\n",
    "def save(outputs:dict, merge:bool = True):\n",
    "    if merge:\n",
    "        file = load(file_name)\n",
    "        outputs = merge_dicts(outputs, file)\n",
    "    \n",
    "    with open(file_name, 'w') as f:\n",
    "        json.dump(outputs, f) \n",
    "        \n",
    "        \n",
    "def inspect_expl(task:str, inst_id:str, instr_id:str):\n",
    "    outputs = load(file_name)\n",
    "    \n",
    "    for instr_key in outputs[task][inst_id]:\n",
    "        if instr_id in instr_key:\n",
    "            print(outputs[task][inst_id][instr_key]['prompt'])\n",
    "            explanations = outputs[task][inst_id][instr_key]['output'].split('\\n\\n')\n",
    "            explanations = [e.split(':', 1)[1].strip() for e in explanations]\n",
    "            \n",
    "            with pd.option_context('display.max_colwidth', None): \n",
    "                display(pd.DataFrame(list(zip([1,2,3,4,5], explanations)), columns =[task, instr_key]))"
   ]
  },
  {
   "cell_type": "code",
   "execution_count": 44,
   "id": "f191ce75-9106-431d-ade6-53a9a5a40e85",
   "metadata": {},
   "outputs": [],
   "source": [
    "file_name = 'explanations_mistral.json'"
   ]
  },
  {
   "cell_type": "markdown",
   "id": "f7a44b06-11b8-4478-a710-ba61f37edecf",
   "metadata": {},
   "source": [
    "**Model inference**"
   ]
  },
  {
   "cell_type": "code",
   "execution_count": null,
   "id": "0bc89ea0-db4c-4ece-87b7-26b7644a2191",
   "metadata": {
    "tags": []
   },
   "outputs": [],
   "source": [
    "outputs = run(idx_l=2, addition='difficulty')"
   ]
  },
  {
   "cell_type": "code",
   "execution_count": null,
   "id": "21c1b88a-04f8-47c0-946a-15fc288bb4b7",
   "metadata": {
    "tags": []
   },
   "outputs": [],
   "source": [
    "save(outputs)"
   ]
  },
  {
   "cell_type": "markdown",
   "id": "2efea92d-7f07-411a-ba18-dd56c8950dd5",
   "metadata": {},
   "source": [
    "**Inspect the generated explanations**"
   ]
  },
  {
   "cell_type": "code",
   "execution_count": 48,
   "id": "48498bf0-a694-4089-88a1-6a2d6b68ffd5",
   "metadata": {},
   "outputs": [
    {
     "name": "stdout",
     "output_type": "stream",
     "text": [
      "You will be given a Reddit comment. Your task is to generate five explanations, each one describing why that comment may be assigned an offensiveness rating of 1, 2, 3, 4, or 5 respectively, 5 being most offensive. The explanations should focus on simplifying the contents. Comment: We care more about keeping kids off welfare. Fuck the parents.\n"
     ]
    },
    {
     "data": {
      "text/html": [
       "<div>\n",
       "<style scoped>\n",
       "    .dataframe tbody tr th:only-of-type {\n",
       "        vertical-align: middle;\n",
       "    }\n",
       "\n",
       "    .dataframe tbody tr th {\n",
       "        vertical-align: top;\n",
       "    }\n",
       "\n",
       "    .dataframe thead th {\n",
       "        text-align: right;\n",
       "    }\n",
       "</style>\n",
       "<table border=\"1\" class=\"dataframe\">\n",
       "  <thead>\n",
       "    <tr style=\"text-align: right;\">\n",
       "      <th></th>\n",
       "      <th>offensiveness</th>\n",
       "      <th>v2_difficulty</th>\n",
       "    </tr>\n",
       "  </thead>\n",
       "  <tbody>\n",
       "    <tr>\n",
       "      <th>0</th>\n",
       "      <td>1</td>\n",
       "      <td>The comment expresses a strong opinion about prioritizing resources for children over parents on welfare. It does not contain any overtly offensive language or slurs.</td>\n",
       "    </tr>\n",
       "    <tr>\n",
       "      <th>1</th>\n",
       "      <td>2</td>\n",
       "      <td>The comment shows a lack of empathy towards parents on welfare and prioritizes the needs of children instead. The use of the word \"fuck\" may be seen as impolite or disrespectful, but it does not contain any hate speech or slurs.</td>\n",
       "    </tr>\n",
       "    <tr>\n",
       "      <th>2</th>\n",
       "      <td>3</td>\n",
       "      <td>The comment expresses a harsh attitude towards parents on welfare and prioritizes the needs of children over them. The use of the word \"fuck\" may be seen as a derogatory term towards the parents, implying a lack of concern for their situation.</td>\n",
       "    </tr>\n",
       "    <tr>\n",
       "      <th>3</th>\n",
       "      <td>4</td>\n",
       "      <td>The comment expresses a callous attitude towards parents on welfare and prioritizes the needs of children over them. The use of the word \"fuck\" may be seen as a vulgar and offensive term, implying a lack of respect and compassion towards the parents.</td>\n",
       "    </tr>\n",
       "    <tr>\n",
       "      <th>4</th>\n",
       "      <td>5</td>\n",
       "      <td>The comment expresses a deeply offensive attitude towards parents on welfare, using the word \"fuck\" as a derogatory term to dismiss their struggles. The comment prioritizes the needs of children over the parents, implying that they are not deserving of support or compassion. This attitude can be seen as hateful and disrespectful towards the parents and their situation.</td>\n",
       "    </tr>\n",
       "  </tbody>\n",
       "</table>\n",
       "</div>"
      ],
      "text/plain": [
       "   offensiveness  \\\n",
       "0              1   \n",
       "1              2   \n",
       "2              3   \n",
       "3              4   \n",
       "4              5   \n",
       "\n",
       "                                                                                                                                                                                                                                                                                                                                                                         v2_difficulty  \n",
       "0                                                                                                                                                                                                               The comment expresses a strong opinion about prioritizing resources for children over parents on welfare. It does not contain any overtly offensive language or slurs.  \n",
       "1                                                                                                                                                 The comment shows a lack of empathy towards parents on welfare and prioritizes the needs of children instead. The use of the word \"fuck\" may be seen as impolite or disrespectful, but it does not contain any hate speech or slurs.  \n",
       "2                                                                                                                                  The comment expresses a harsh attitude towards parents on welfare and prioritizes the needs of children over them. The use of the word \"fuck\" may be seen as a derogatory term towards the parents, implying a lack of concern for their situation.  \n",
       "3                                                                                                                           The comment expresses a callous attitude towards parents on welfare and prioritizes the needs of children over them. The use of the word \"fuck\" may be seen as a vulgar and offensive term, implying a lack of respect and compassion towards the parents.  \n",
       "4  The comment expresses a deeply offensive attitude towards parents on welfare, using the word \"fuck\" as a derogatory term to dismiss their struggles. The comment prioritizes the needs of children over the parents, implying that they are not deserving of support or compassion. This attitude can be seen as hateful and disrespectful towards the parents and their situation.  "
      ]
     },
     "metadata": {},
     "output_type": "display_data"
    },
    {
     "name": "stdout",
     "output_type": "stream",
     "text": [
      "You will be given a Reddit comment. Your task is to generate five explanations, each one describing why that comment may be assigned an offensiveness rating of 1, 2, 3, 4, or 5 respectively, 5 being most offensive. The explanations should focus on clearing up ambiguities. Comment: We care more about keeping kids off welfare. Fuck the parents.\n"
     ]
    },
    {
     "data": {
      "text/html": [
       "<div>\n",
       "<style scoped>\n",
       "    .dataframe tbody tr th:only-of-type {\n",
       "        vertical-align: middle;\n",
       "    }\n",
       "\n",
       "    .dataframe tbody tr th {\n",
       "        vertical-align: top;\n",
       "    }\n",
       "\n",
       "    .dataframe thead th {\n",
       "        text-align: right;\n",
       "    }\n",
       "</style>\n",
       "<table border=\"1\" class=\"dataframe\">\n",
       "  <thead>\n",
       "    <tr style=\"text-align: right;\">\n",
       "      <th></th>\n",
       "      <th>offensiveness</th>\n",
       "      <th>v2_ambiguity</th>\n",
       "    </tr>\n",
       "  </thead>\n",
       "  <tbody>\n",
       "    <tr>\n",
       "      <th>0</th>\n",
       "      <td>1</td>\n",
       "      <td>The comment may be rated as mildly offensive due to the use of strong language, \"Fuck the parents,\" but the overall context seems to be focused on a policy perspective, expressing concern for keeping kids off welfare. It could be interpreted as frustration with the system and not directly targeting parents as individuals.</td>\n",
       "    </tr>\n",
       "    <tr>\n",
       "      <th>1</th>\n",
       "      <td>2</td>\n",
       "      <td>The comment may be rated as moderately offensive due to the use of strong language and a dismissive attitude towards parents. However, it's important to note that the comment does not contain any derogatory or hateful language towards parents based on their race, gender, or other personal characteristics.</td>\n",
       "    </tr>\n",
       "    <tr>\n",
       "      <th>2</th>\n",
       "      <td>3</td>\n",
       "      <td>The comment may be rated as somewhat offensive due to the use of strong language and a dismissive attitude towards parents. The statement \"Fuck the parents\" could be interpreted as a lack of empathy or understanding for the challenges parents face, which could be perceived as insensitive.</td>\n",
       "    </tr>\n",
       "    <tr>\n",
       "      <th>3</th>\n",
       "      <td>4</td>\n",
       "      <td>The comment may be rated as more offensive due to the use of strong language and a dismissive attitude towards parents. The statement \"Fuck the parents\" could be perceived as blaming parents for their children being on welfare, ignoring the complex societal and economic factors that contribute to poverty and the need for welfare.</td>\n",
       "    </tr>\n",
       "    <tr>\n",
       "      <th>4</th>\n",
       "      <td>5</td>\n",
       "      <td>The comment may be rated as highly offensive due to the use of strong language and a dismissive attitude towards parents. The statement \"Fuck the parents\" could be perceived as blaming parents for their children being on welfare, ignoring the complex societal and economic factors that contribute to poverty and the need for welfare. Additionally, the use of the word \"fuck\" could be seen as a deliberate attempt to dehumanize and degrade parents, making the comment more hateful and harmful.</td>\n",
       "    </tr>\n",
       "  </tbody>\n",
       "</table>\n",
       "</div>"
      ],
      "text/plain": [
       "   offensiveness  \\\n",
       "0              1   \n",
       "1              2   \n",
       "2              3   \n",
       "3              4   \n",
       "4              5   \n",
       "\n",
       "                                                                                                                                                                                                                                                                                                                                                                                                                                                                                                   v2_ambiguity  \n",
       "0                                                                                                                                                                           The comment may be rated as mildly offensive due to the use of strong language, \"Fuck the parents,\" but the overall context seems to be focused on a policy perspective, expressing concern for keeping kids off welfare. It could be interpreted as frustration with the system and not directly targeting parents as individuals.  \n",
       "1                                                                                                                                                                                            The comment may be rated as moderately offensive due to the use of strong language and a dismissive attitude towards parents. However, it's important to note that the comment does not contain any derogatory or hateful language towards parents based on their race, gender, or other personal characteristics.  \n",
       "2                                                                                                                                                                                                             The comment may be rated as somewhat offensive due to the use of strong language and a dismissive attitude towards parents. The statement \"Fuck the parents\" could be interpreted as a lack of empathy or understanding for the challenges parents face, which could be perceived as insensitive.  \n",
       "3                                                                                                                                                                   The comment may be rated as more offensive due to the use of strong language and a dismissive attitude towards parents. The statement \"Fuck the parents\" could be perceived as blaming parents for their children being on welfare, ignoring the complex societal and economic factors that contribute to poverty and the need for welfare.  \n",
       "4  The comment may be rated as highly offensive due to the use of strong language and a dismissive attitude towards parents. The statement \"Fuck the parents\" could be perceived as blaming parents for their children being on welfare, ignoring the complex societal and economic factors that contribute to poverty and the need for welfare. Additionally, the use of the word \"fuck\" could be seen as a deliberate attempt to dehumanize and degrade parents, making the comment more hateful and harmful.  "
      ]
     },
     "metadata": {},
     "output_type": "display_data"
    },
    {
     "name": "stdout",
     "output_type": "stream",
     "text": [
      "You will be given a Reddit comment. Your task is to generate five explanations, each one describing why that comment may be assigned an offensiveness rating of 1, 2, 3, 4, or 5 respectively, 5 being most offensive. Comment: We care more about keeping kids off welfare. Fuck the parents.\n"
     ]
    },
    {
     "data": {
      "text/html": [
       "<div>\n",
       "<style scoped>\n",
       "    .dataframe tbody tr th:only-of-type {\n",
       "        vertical-align: middle;\n",
       "    }\n",
       "\n",
       "    .dataframe tbody tr th {\n",
       "        vertical-align: top;\n",
       "    }\n",
       "\n",
       "    .dataframe thead th {\n",
       "        text-align: right;\n",
       "    }\n",
       "</style>\n",
       "<table border=\"1\" class=\"dataframe\">\n",
       "  <thead>\n",
       "    <tr style=\"text-align: right;\">\n",
       "      <th></th>\n",
       "      <th>offensiveness</th>\n",
       "      <th>v2</th>\n",
       "    </tr>\n",
       "  </thead>\n",
       "  <tbody>\n",
       "    <tr>\n",
       "      <th>0</th>\n",
       "      <td>1</td>\n",
       "      <td>This comment expresses a strong opinion about prioritizing resources for children over parents who rely on welfare. While it may come across as blunt or insensitive, it does not contain any overtly offensive language or slurs.</td>\n",
       "    </tr>\n",
       "    <tr>\n",
       "      <th>1</th>\n",
       "      <td>2</td>\n",
       "      <td>The comment's tone is dismissive and demeaning towards parents on welfare, which could be perceived as offensive by some. However, it does not directly target or attack individuals, and the language used is not particularly harsh.</td>\n",
       "    </tr>\n",
       "    <tr>\n",
       "      <th>2</th>\n",
       "      <td>3</td>\n",
       "      <td>The comment's focus on \"fucking the parents\" could be seen as offensive and disrespectful, especially towards those who are struggling and in need of assistance. The use of the word \"fuck\" adds a level of hostility and contempt.</td>\n",
       "    </tr>\n",
       "    <tr>\n",
       "      <th>3</th>\n",
       "      <td>4</td>\n",
       "      <td>The comment's language and tone are more aggressive and derogatory, with the use of the word \"fuck\" and the dismissive attitude towards parents on welfare. This could be perceived as offensive and hurtful to those who are affected by the comment.</td>\n",
       "    </tr>\n",
       "    <tr>\n",
       "      <th>4</th>\n",
       "      <td>5</td>\n",
       "      <td>The comment's use of the word \"fuck\" and its derogatory attitude towards parents on welfare could be seen as highly offensive and disrespectful. The comment does not offer any constructive solutions or empathy towards those in need, and its language is intended to belittle and demean.</td>\n",
       "    </tr>\n",
       "  </tbody>\n",
       "</table>\n",
       "</div>"
      ],
      "text/plain": [
       "   offensiveness  \\\n",
       "0              1   \n",
       "1              2   \n",
       "2              3   \n",
       "3              4   \n",
       "4              5   \n",
       "\n",
       "                                                                                                                                                                                                                                                                                              v2  \n",
       "0                                                             This comment expresses a strong opinion about prioritizing resources for children over parents who rely on welfare. While it may come across as blunt or insensitive, it does not contain any overtly offensive language or slurs.  \n",
       "1                                                         The comment's tone is dismissive and demeaning towards parents on welfare, which could be perceived as offensive by some. However, it does not directly target or attack individuals, and the language used is not particularly harsh.  \n",
       "2                                                           The comment's focus on \"fucking the parents\" could be seen as offensive and disrespectful, especially towards those who are struggling and in need of assistance. The use of the word \"fuck\" adds a level of hostility and contempt.  \n",
       "3                                         The comment's language and tone are more aggressive and derogatory, with the use of the word \"fuck\" and the dismissive attitude towards parents on welfare. This could be perceived as offensive and hurtful to those who are affected by the comment.  \n",
       "4  The comment's use of the word \"fuck\" and its derogatory attitude towards parents on welfare could be seen as highly offensive and disrespectful. The comment does not offer any constructive solutions or empathy towards those in need, and its language is intended to belittle and demean.  "
      ]
     },
     "metadata": {},
     "output_type": "display_data"
    }
   ],
   "source": [
    "inspect_expl(task='offensiveness', inst_id='367', instr_id='v2')"
   ]
  },
  {
   "cell_type": "markdown",
   "id": "258b996d-4ac6-4571-9b17-bdf17c36881d",
   "metadata": {},
   "source": [
    "**Notes**"
   ]
  },
  {
   "cell_type": "markdown",
   "id": "6582afe9-d0e7-4ad6-86a9-35f70e2cbc28",
   "metadata": {},
   "source": [
    "Reasoning for **1**:\n",
    "* *v2_difficulty*: 'the comment does not contain any overtly offensive language or slurs.'\n",
    "* *v2_ambiguity*: 'the overall context seems to be focused on a policy perspective, expressing concern for keeping kids off welfare. It could be interpreted as frustration with the system and not directly targeting parents as individuals.'\n",
    "* *v2*: 'the comment does not contain any overtly offensive language or slurs.'\n",
    "\n",
    "Reasoning for **2**:\n",
    "* *v2_difficulty*: 'lack of empathy towards parents on welfare', 'use of the word \"fuck\" may be seen as impolite or disrespectful', 'does not contain any hate speech or slurs'\n",
    "* *v2_ambiguity*: 'use of strong language', 'dismissive attitude towards parents', 'does not contain any derogatory or hateful language towards parents based on their race, gender, or other personal characteristics'\n",
    "* *v2*: 'dismissive and demeaning towards parents on welfare', 'does not directly target or attack individuals', 'the language used is not particularly harsh'\n",
    "\n",
    "Reasoning for **3**\n",
    "* *v2_difficulty*: 'harsh attitude towards parents on welfare', 'use of the word \"fuck\" may be seen as a derogatory term towards the parents, implying a lack of concern for their situation'\n",
    "* *v2_ambiguity*: 'use of strong language', 'dismissive attitude towards parents', 'lack of empathy or understanding for the challenges parents face'\n",
    "* *v2*: 'could be seen as offensive and disrespectful, especially towards those who are struggling and in need of assistance', 'use of the word \"fuck\" adds a level of hostility and contempt'\n",
    "\n",
    "Reasoning for **4**\n",
    "* *v2_difficulty*: 'callous attitude towards parents on welfare', 'use of the word \"fuck\" may be seen as a vulgar and offensive term, implying a lack of respect and compassion towards the parents'\n",
    "* *v2_ambiguity*: 'use of strong language', 'dismissive attitude towards parents', 'statement \"Fuck the parents\" could be perceived as blaming parents for their children being on welfare, ignoring the complex societal and economic factors that contribute to poverty and the need for welfare'\n",
    "* *v2*: 'language and tone are more aggressive and derogatory', ' use of the word \"fuck\"', the dismissive attitude towards parents on welfare'\n",
    "\n",
    "Reasoning for **5**:\n",
    "* *v2_difficulty*: 'deeply offensive attitude towards parents on welfare', 'using the word \"fuck\" as a derogatory term to dismiss their struggles', 'implying that they [the parents] are not deserving of support or compassion', 'attitude can be seen as hateful and disrespectful towards the parents and their situation'\n",
    "* *v2_ambiguity*: 'use of strong language', 'dismissive attitude towards parents', 'statement \"Fuck the parents\" could be perceived as blaming parents for their children being on welfare, ignoring the complex societal and economic factors that contribute to poverty and the need for welfare', 'use of the word \"fuck\" could be seen as a deliberate attempt to dehumanize and degrade parents'\n",
    "* *v2*: 'use of the word \"fuck\" and its derogatory attitude towards parents on welfare', 'comment does not offer any constructive solutions or empathy towards those in need', 'its language is intended to belittle and demean'"
   ]
  },
  {
   "cell_type": "code",
   "execution_count": null,
   "id": "27041df2-6107-4efd-bdb5-2e5422c5f631",
   "metadata": {},
   "outputs": [],
   "source": []
  }
 ],
 "metadata": {
  "kernelspec": {
   "display_name": "env3",
   "language": "python",
   "name": "env3"
  },
  "language_info": {
   "codemirror_mode": {
    "name": "ipython",
    "version": 3
   },
   "file_extension": ".py",
   "mimetype": "text/x-python",
   "name": "python",
   "nbconvert_exporter": "python",
   "pygments_lexer": "ipython3",
   "version": "3.10.15"
  }
 },
 "nbformat": 4,
 "nbformat_minor": 5
}
